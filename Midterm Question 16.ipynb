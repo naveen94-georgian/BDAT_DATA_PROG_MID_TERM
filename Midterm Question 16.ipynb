{
 "cells": [
  {
   "cell_type": "markdown",
   "metadata": {},
   "source": [
    "### Question 16\n",
    "&emsp;A country is big if it has an area of bigger than 3 million square km or a population of more than 25 million.<br>\n",
    "<br>\n",
    "&emsp;**Write a SQL solution to output big countries' name, population and area.**<br>\n",
    "&emsp;In an ipython notebook create a sqlite3 database and a table called World. Insert the World data into your table <br>\n",
    "&emsp;(python + SQL syntax) and then proceed to write the big countries query. Your output does not need to be formatted<br>\n",
    "&emsp;like table, you may just print the countries with thier populations and areas.<br>"
   ]
  },
  {
   "cell_type": "markdown",
   "metadata": {},
   "source": [
    "#### Importing sqlite and creating a connection"
   ]
  },
  {
   "cell_type": "code",
   "execution_count": 8,
   "metadata": {},
   "outputs": [],
   "source": [
    "import sqlite3 as sqlite\n",
    "con = sqlite.connect('web.db')\n",
    "cur = con.cursor()"
   ]
  },
  {
   "cell_type": "markdown",
   "metadata": {},
   "source": [
    "#### Creating a Table"
   ]
  },
  {
   "cell_type": "code",
   "execution_count": 9,
   "metadata": {},
   "outputs": [
    {
     "data": {
      "text/plain": [
       "<sqlite3.Cursor at 0x2514d219110>"
      ]
     },
     "execution_count": 9,
     "metadata": {},
     "output_type": "execute_result"
    }
   ],
   "source": [
    "cur.execute('CREATE TABLE World(name text, continent text, area int, population bigint, gdp bigint)')"
   ]
  },
  {
   "cell_type": "markdown",
   "metadata": {},
   "source": [
    "#### Creating a list of tuples for the records"
   ]
  },
  {
   "cell_type": "code",
   "execution_count": 10,
   "metadata": {},
   "outputs": [],
   "source": [
    "records = [('Afghanistan', 'Asia', 652230, 25500100, 20343000),\n",
    "          ('Albania', 'Europe', 28748, 2831741, 12960000),\n",
    "          ('Algeria', 'Africa', 2381741, 37100000, 188681000),\n",
    "          ('Andorra', 'Europe', 468, 78115, 3712000),\n",
    "          ('Angola', 'Africa', 1246700, 20609294, 100990000)]"
   ]
  },
  {
   "cell_type": "code",
   "execution_count": 12,
   "metadata": {},
   "outputs": [],
   "source": [
    "for record in records:\n",
    "    cur.execute('INSERT INTO World values(?,?,?,?,?)', record)"
   ]
  },
  {
   "cell_type": "code",
   "execution_count": 22,
   "metadata": {},
   "outputs": [
    {
     "data": {
      "text/plain": [
       "<sqlite3.Cursor at 0x2514d219110>"
      ]
     },
     "execution_count": 22,
     "metadata": {},
     "output_type": "execute_result"
    }
   ],
   "source": [
    "cur.execute('SELECT w.name, w.population, area FROM World as w WHERE w.area > 3000000 OR w.population > 25000000')"
   ]
  },
  {
   "cell_type": "code",
   "execution_count": 23,
   "metadata": {},
   "outputs": [],
   "source": [
    "lst = cur.fetchall()"
   ]
  },
  {
   "cell_type": "code",
   "execution_count": 24,
   "metadata": {},
   "outputs": [
    {
     "data": {
      "text/plain": [
       "[('Afghanistan', 25500100, 652230), ('Algeria', 37100000, 2381741)]"
      ]
     },
     "execution_count": 24,
     "metadata": {},
     "output_type": "execute_result"
    }
   ],
   "source": [
    "lst"
   ]
  },
  {
   "cell_type": "code",
   "execution_count": null,
   "metadata": {},
   "outputs": [],
   "source": []
  }
 ],
 "metadata": {
  "kernelspec": {
   "display_name": "dataprog",
   "language": "python",
   "name": "dataprog"
  },
  "language_info": {
   "codemirror_mode": {
    "name": "ipython",
    "version": 3
   },
   "file_extension": ".py",
   "mimetype": "text/x-python",
   "name": "python",
   "nbconvert_exporter": "python",
   "pygments_lexer": "ipython3",
   "version": "3.7.9"
  }
 },
 "nbformat": 4,
 "nbformat_minor": 4
}
