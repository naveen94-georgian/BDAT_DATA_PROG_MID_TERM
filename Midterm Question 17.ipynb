{
 "cells": [
  {
   "cell_type": "markdown",
   "metadata": {},
   "source": [
    "### QUESTION 17\n",
    "\n",
    "&emsp;Implement a class Polygon that abstracts regular polygons and supports class methods:<br>\n",
    "\n",
    "&emsp;**__init__():** A constructor that takes as input the nuber of sides and the side length of a regular n-gon (n-sided) object<br>\n",
    "\n",
    "&emsp;**perimeter():**Returns the perimeter of a n-gon object<br>\n",
    "\n",
    "&emsp;**area():** Returns the area of the n-gon object<br>\n",
    "\n",
    "<span style=\"color:blue;\">Solution:</span>"
   ]
  },
  {
   "cell_type": "code",
   "execution_count": 36,
   "metadata": {},
   "outputs": [],
   "source": [
    "import math\n",
    "class Polygon:\n",
    "    'class Polygon takes number of sides and side length as input and computes area and perimeter of a polygon'\n",
    "    def __init__(self, number_of_sides, side_length):\n",
    "        'contructor gets the inputs number of sides and side length '\n",
    "        self.number_of_sides = number_of_sides\n",
    "        self.side_length = side_length\n",
    "    def area(self):\n",
    "        'computes the area of the polygon'\n",
    "        numerator = self.side_length**2 * self.number_of_sides\n",
    "        denominator = 4 * math.tan(math.pi/self.number_of_sides)\n",
    "        return round(numerator / denominator, 2)\n",
    "    \n",
    "    def perimeter(self):\n",
    "        'computes the perimeter of the polygon'\n",
    "        return self.number_of_sides * self.side_length\n",
    "        "
   ]
  },
  {
   "cell_type": "code",
   "execution_count": 37,
   "metadata": {},
   "outputs": [],
   "source": [
    "p = Polygon(10,6)"
   ]
  },
  {
   "cell_type": "code",
   "execution_count": 38,
   "metadata": {},
   "outputs": [
    {
     "data": {
      "text/plain": [
       "276.99"
      ]
     },
     "execution_count": 38,
     "metadata": {},
     "output_type": "execute_result"
    }
   ],
   "source": [
    "p.area()"
   ]
  },
  {
   "cell_type": "code",
   "execution_count": 39,
   "metadata": {},
   "outputs": [
    {
     "data": {
      "text/plain": [
       "60"
      ]
     },
     "execution_count": 39,
     "metadata": {},
     "output_type": "execute_result"
    }
   ],
   "source": [
    "p.perimeter()"
   ]
  },
  {
   "cell_type": "code",
   "execution_count": null,
   "metadata": {},
   "outputs": [],
   "source": []
  }
 ],
 "metadata": {
  "kernelspec": {
   "display_name": "dataprog",
   "language": "python",
   "name": "dataprog"
  },
  "language_info": {
   "codemirror_mode": {
    "name": "ipython",
    "version": 3
   },
   "file_extension": ".py",
   "mimetype": "text/x-python",
   "name": "python",
   "nbconvert_exporter": "python",
   "pygments_lexer": "ipython3",
   "version": "3.7.9"
  }
 },
 "nbformat": 4,
 "nbformat_minor": 4
}
